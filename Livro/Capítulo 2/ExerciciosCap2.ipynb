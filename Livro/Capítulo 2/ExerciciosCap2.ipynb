{
 "cells": [
  {
   "cell_type": "markdown",
   "id": "a449212a-751e-475f-887b-f71cfdb3b164",
   "metadata": {},
   "source": [
    "Nessa seção vou apresentar os exercicios propostos no final do capitulo 2"
   ]
  },
  {
   "cell_type": "markdown",
   "id": "394a4260-e51d-496b-a416-25a06a17be37",
   "metadata": {},
   "source": [
    "1. teste o regressor da SVM com varios hiperparametros,como kernel = 'linear'(com diversos hiperparametros C) ou kernel = 'rbf' (com varios paraetros C e gamma)."
   ]
  },
  {
   "cell_type": "code",
   "execution_count": null,
   "id": "54e00006-3659-4c25-8d77-a489f380964b",
   "metadata": {},
   "outputs": [],
   "source": [
    "from sklearn.model_selection import GridSearchCV\n",
    "\n",
    "param_grid = [\n",
    "        {'kernel': ['linear'], 'C': [10., 30., 100., 300., 1000., 3000., 10000., 30000.0]},\n",
    "        {'kernel': ['rbf'], 'C': [1.0, 3.0, 10., 30., 100., 300., 1000.0],\n",
    "         'gamma': [0.01, 0.03, 0.1, 0.3, 1.0, 3.0]},\n",
    "    ]\n",
    "svm_reg = SVR()\n",
    "grid_search= GridSearchCV(svm_reg, param_grid, cv = 5, scoring = 'neg_mean_squared_error', verbose = 2)\n",
    "grid_search.fit(housing_prepared, housing_labels)"
   ]
  },
  {
   "cell_type": "markdown",
   "id": "7d2d6685-70b9-4a68-8c22-4d3f5e612b78",
   "metadata": {},
   "source": [
    "2. Tente substituir GridSearchCV por RandomizedSearchCV"
   ]
  },
  {
   "cell_type": "code",
   "execution_count": null,
   "id": "daafd717-9e80-4075-ba2a-26de2a2c9ac5",
   "metadata": {},
   "outputs": [],
   "source": []
  }
 ],
 "metadata": {
  "kernelspec": {
   "display_name": "Python 3 (ipykernel)",
   "language": "python",
   "name": "python3"
  },
  "language_info": {
   "codemirror_mode": {
    "name": "ipython",
    "version": 3
   },
   "file_extension": ".py",
   "mimetype": "text/x-python",
   "name": "python",
   "nbconvert_exporter": "python",
   "pygments_lexer": "ipython3",
   "version": "3.11.7"
  }
 },
 "nbformat": 4,
 "nbformat_minor": 5
}
