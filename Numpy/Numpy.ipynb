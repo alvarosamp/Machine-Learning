{
 "cells": [
  {
   "cell_type": "markdown",
   "id": "4b781007-8957-4517-a886-1f291e879cd4",
   "metadata": {},
   "source": [
    "## 2.0 Creating arrays"
   ]
  },
  {
   "cell_type": "code",
   "execution_count": 134,
   "id": "636d30d8-c686-4212-b979-5781fd24e612",
   "metadata": {},
   "outputs": [],
   "source": [
    "import numpy as np\n",
    "import pandas as pd"
   ]
  },
  {
   "cell_type": "code",
   "execution_count": 135,
   "id": "a66132f1-d8cd-4a21-a81b-8f20c96d45ce",
   "metadata": {},
   "outputs": [
    {
     "data": {
      "text/plain": [
       "array([1, 2, 3])"
      ]
     },
     "execution_count": 135,
     "metadata": {},
     "output_type": "execute_result"
    }
   ],
   "source": [
    "simple_array = np.array([1, 2, 3])\n",
    "simple_array"
   ]
  },
  {
   "cell_type": "code",
   "execution_count": 136,
   "id": "bf01643e-9a00-4cc3-affe-8bc88a9569e2",
   "metadata": {},
   "outputs": [
    {
     "data": {
      "text/plain": [
       "dtype('int32')"
      ]
     },
     "execution_count": 136,
     "metadata": {},
     "output_type": "execute_result"
    }
   ],
   "source": [
    "#tipo do array\n",
    "simple_array.dtype"
   ]
  },
  {
   "cell_type": "code",
   "execution_count": 137,
   "id": "de5b9950-8587-40f6-aff8-f67baebb7beb",
   "metadata": {},
   "outputs": [
    {
     "data": {
      "text/plain": [
       "array([[1., 1., 1.],\n",
       "       [1., 1., 1.]])"
      ]
     },
     "execution_count": 137,
     "metadata": {},
     "output_type": "execute_result"
    }
   ],
   "source": [
    "#Criando um array onde todas as suas posições os valores sao 1\n",
    "ones = np.ones((2,3 ))\n",
    "ones"
   ]
  },
  {
   "cell_type": "code",
   "execution_count": 138,
   "id": "7ed6e804-87a5-4d46-9269-480ecca1af5b",
   "metadata": {},
   "outputs": [
    {
     "data": {
      "text/plain": [
       "array([[0., 0., 0.],\n",
       "       [0., 0., 0.]])"
      ]
     },
     "execution_count": 138,
     "metadata": {},
     "output_type": "execute_result"
    }
   ],
   "source": [
    "#Criando um array onde todos os indices sao zeros\n",
    "zeros = np.zeros((2,3))\n",
    "zeros"
   ]
  },
  {
   "cell_type": "code",
   "execution_count": 139,
   "id": "ecc9c04b-022d-4249-9947-dcd482b438c7",
   "metadata": {},
   "outputs": [
    {
     "data": {
      "text/plain": [
       "array([0, 2, 4, 6, 8])"
      ]
     },
     "execution_count": 139,
     "metadata": {},
     "output_type": "execute_result"
    }
   ],
   "source": [
    "#Criando um array com um intevalo\n",
    "range_array = np.arange(0,10,2)\n",
    "range_array"
   ]
  },
  {
   "cell_type": "code",
   "execution_count": 140,
   "id": "1e5b7f17-00da-4ffa-a1b4-25fee22e2dbe",
   "metadata": {},
   "outputs": [
    {
     "data": {
      "text/plain": [
       "array([[4, 3, 9, 7, 1],\n",
       "       [5, 8, 8, 1, 3],\n",
       "       [8, 8, 0, 3, 9]])"
      ]
     },
     "execution_count": 140,
     "metadata": {},
     "output_type": "execute_result"
    }
   ],
   "source": [
    "#Criando um vetor com numeros inteiros aleatorios\n",
    "random_array = np.random.randint(0,10,size = (3,5)) #Inicio, fim, dimensão do vetor\n",
    "random_array"
   ]
  },
  {
   "cell_type": "code",
   "execution_count": 141,
   "id": "6963b144-e6e5-4275-a325-48ce1555efc0",
   "metadata": {},
   "outputs": [
    {
     "data": {
      "text/plain": [
       "15"
      ]
     },
     "execution_count": 141,
     "metadata": {},
     "output_type": "execute_result"
    }
   ],
   "source": [
    "#Tamanho do vetor\n",
    "random_array.size"
   ]
  },
  {
   "cell_type": "code",
   "execution_count": 142,
   "id": "0ee9afdc-b777-4285-90ff-7cbca9a2b01b",
   "metadata": {},
   "outputs": [
    {
     "data": {
      "text/plain": [
       "(3, 5)"
      ]
     },
     "execution_count": 142,
     "metadata": {},
     "output_type": "execute_result"
    }
   ],
   "source": [
    "#Dimensão do vetor\n",
    "random_array.shape"
   ]
  },
  {
   "cell_type": "code",
   "execution_count": 143,
   "id": "4554ee1d-11eb-4766-8e23-78597240466d",
   "metadata": {},
   "outputs": [
    {
     "data": {
      "text/plain": [
       "array([[0.62261493, 0.21998622, 0.00107923],\n",
       "       [0.24745427, 0.75170421, 0.21750013],\n",
       "       [0.43162277, 0.47211389, 0.66099854],\n",
       "       [0.69190017, 0.53511722, 0.63167987],\n",
       "       [0.89059564, 0.1336564 , 0.75056332]])"
      ]
     },
     "execution_count": 143,
     "metadata": {},
     "output_type": "execute_result"
    }
   ],
   "source": [
    "random_array2 = np.random.random((5,3))\n",
    "random_array2"
   ]
  },
  {
   "cell_type": "code",
   "execution_count": 144,
   "id": "aff4563c-3793-4abf-8cb2-3e95a82bea97",
   "metadata": {},
   "outputs": [
    {
     "data": {
      "text/plain": [
       "15"
      ]
     },
     "execution_count": 144,
     "metadata": {},
     "output_type": "execute_result"
    }
   ],
   "source": [
    "random_array2.size"
   ]
  },
  {
   "cell_type": "code",
   "execution_count": 145,
   "id": "aa6c9f80-b4fa-46c5-a27b-e43ef4c39908",
   "metadata": {},
   "outputs": [
    {
     "data": {
      "text/plain": [
       "(5, 3)"
      ]
     },
     "execution_count": 145,
     "metadata": {},
     "output_type": "execute_result"
    }
   ],
   "source": [
    "random_array2.shape"
   ]
  },
  {
   "cell_type": "markdown",
   "id": "264fd42b-4567-449e-b904-e26bb734300c",
   "metadata": {},
   "source": [
    " Esta linha define a semente (seed) para o gerador de números pseudo-aleatórios do NumPy. A semente é um valor inicial usado para iniciar o gerador de números aleatórios, garantindo que, se a mesma semente for usada, os mesmos números pseudo-aleatórios serão gerados. Portanto, ao definir a semente como 0, estamos garantindo que, independentemente de quantas vezes executemos o código, obteremos os mesmos números pseudo-aleatórios."
   ]
  },
  {
   "cell_type": "code",
   "execution_count": 146,
   "id": "9cfb5d37-c64d-4235-93f9-4f7d8dfdf16a",
   "metadata": {},
   "outputs": [
    {
     "data": {
      "text/plain": [
       "array([[5, 0, 3],\n",
       "       [3, 7, 9],\n",
       "       [3, 5, 2],\n",
       "       [4, 7, 6],\n",
       "       [8, 8, 1]])"
      ]
     },
     "execution_count": 146,
     "metadata": {},
     "output_type": "execute_result"
    }
   ],
   "source": [
    "#Pseudo random numbers\n",
    "# Onde voce consgue numeros deterministicos no vetor, a partir de uma conta\n",
    "np.random.seed(seed = 0)\n",
    "random_array4 = np.random.randint(10,size=(5,3))\n",
    "random_array4\n",
    "\n",
    "#A"
   ]
  },
  {
   "cell_type": "code",
   "execution_count": 147,
   "id": "ec0e7678-d15b-46d1-81a2-7ec2ee868287",
   "metadata": {},
   "outputs": [
    {
     "data": {
      "text/plain": [
       "(5, 3)"
      ]
     },
     "execution_count": 147,
     "metadata": {},
     "output_type": "execute_result"
    }
   ],
   "source": [
    "random_array4.shape"
   ]
  },
  {
   "cell_type": "markdown",
   "id": "6b6b4ce1-222b-4d3e-a190-c43e282775b7",
   "metadata": {},
   "source": [
    "## 3.Viewing arrays and matrices"
   ]
  },
  {
   "cell_type": "code",
   "execution_count": 148,
   "id": "4415efd8-8436-4bd4-9e7a-08ad2bd73358",
   "metadata": {},
   "outputs": [
    {
     "data": {
      "text/plain": [
       "array([[0, 3, 1],\n",
       "       [8, 1, 3],\n",
       "       [8, 5, 6],\n",
       "       [0, 6, 0],\n",
       "       [4, 0, 9]])"
      ]
     },
     "execution_count": 148,
     "metadata": {},
     "output_type": "execute_result"
    }
   ],
   "source": [
    "np.random.seed(seed = 99999)\n",
    "random_array4 = np.random.randint(10, size = (5,3))\n",
    "random_array4"
   ]
  },
  {
   "cell_type": "code",
   "execution_count": 149,
   "id": "953f4055-9c40-4ce2-b55a-46b4994d3592",
   "metadata": {},
   "outputs": [
    {
     "data": {
      "text/plain": [
       "array([0, 1, 3, 4, 5, 6, 8, 9])"
      ]
     },
     "execution_count": 149,
     "metadata": {},
     "output_type": "execute_result"
    }
   ],
   "source": [
    "np.unique(random_array4)\n",
    "#Retorna apenas valores unicos"
   ]
  },
  {
   "cell_type": "code",
   "execution_count": 150,
   "id": "e6fca9da-a13a-4a55-ae7e-1919d002ac5a",
   "metadata": {},
   "outputs": [],
   "source": [
    "a1 = np.array([1, 2, 3])"
   ]
  },
  {
   "cell_type": "code",
   "execution_count": 151,
   "id": "41799e8d-0b1d-42c0-bd29-51cf01de7835",
   "metadata": {},
   "outputs": [],
   "source": [
    "a2 = np.array([[1, 2.0, 3.3],\n",
    "              [4, 5, 6]])"
   ]
  },
  {
   "cell_type": "code",
   "execution_count": 152,
   "id": "8d9e173a-188e-49d5-885f-f03a0dc64682",
   "metadata": {},
   "outputs": [],
   "source": [
    "a3 = np.array([[[1,2,3],\n",
    "                [4,5,6],\n",
    "                [7,8,9]]])"
   ]
  },
  {
   "cell_type": "code",
   "execution_count": 153,
   "id": "ce66700b-301e-4283-9aaf-d0d40bce9fc2",
   "metadata": {},
   "outputs": [
    {
     "data": {
      "text/plain": [
       "array([1, 2, 3])"
      ]
     },
     "execution_count": 153,
     "metadata": {},
     "output_type": "execute_result"
    }
   ],
   "source": [
    "a1"
   ]
  },
  {
   "cell_type": "code",
   "execution_count": 154,
   "id": "0b0dc25c-5a96-4029-9e0d-47e8e651cded",
   "metadata": {},
   "outputs": [
    {
     "data": {
      "text/plain": [
       "array([[1. , 2. , 3.3],\n",
       "       [4. , 5. , 6. ]])"
      ]
     },
     "execution_count": 154,
     "metadata": {},
     "output_type": "execute_result"
    }
   ],
   "source": [
    "a2"
   ]
  },
  {
   "cell_type": "code",
   "execution_count": 155,
   "id": "9e11f400-f821-4921-8047-42bdf2fe374a",
   "metadata": {},
   "outputs": [
    {
     "data": {
      "text/plain": [
       "array([[[1, 2, 3],\n",
       "        [4, 5, 6],\n",
       "        [7, 8, 9]]])"
      ]
     },
     "execution_count": 155,
     "metadata": {},
     "output_type": "execute_result"
    }
   ],
   "source": [
    "a3"
   ]
  },
  {
   "cell_type": "code",
   "execution_count": 156,
   "id": "5c7deffb-b48e-4e0e-8a85-d505a8331640",
   "metadata": {},
   "outputs": [
    {
     "data": {
      "text/plain": [
       "array([[[1, 2],\n",
       "        [4, 5]]])"
      ]
     },
     "execution_count": 156,
     "metadata": {},
     "output_type": "execute_result"
    }
   ],
   "source": [
    "a3[:2, :2, :2]  #Tudo até o indicie 2, lembrando que começa em 0"
   ]
  },
  {
   "cell_type": "code",
   "execution_count": 157,
   "id": "1762cb16-49ca-403d-87a3-c7f71d9aeef0",
   "metadata": {},
   "outputs": [
    {
     "data": {
      "text/plain": [
       "array([[[[2, 0, 0, 5, 0],\n",
       "         [0, 8, 1, 0, 9],\n",
       "         [7, 1, 8, 9, 5],\n",
       "         [8, 3, 4, 2, 1]],\n",
       "\n",
       "        [[5, 5, 8, 3, 4],\n",
       "         [6, 9, 6, 9, 4],\n",
       "         [6, 5, 5, 8, 8],\n",
       "         [7, 4, 0, 9, 2]],\n",
       "\n",
       "        [[0, 7, 2, 8, 1],\n",
       "         [2, 9, 4, 4, 4],\n",
       "         [3, 3, 4, 1, 0],\n",
       "         [1, 3, 0, 5, 8]]],\n",
       "\n",
       "\n",
       "       [[[7, 7, 5, 4, 6],\n",
       "         [8, 7, 6, 4, 7],\n",
       "         [4, 4, 4, 2, 5],\n",
       "         [7, 2, 2, 0, 8]],\n",
       "\n",
       "        [[1, 5, 5, 5, 6],\n",
       "         [9, 0, 7, 7, 6],\n",
       "         [2, 5, 0, 9, 1],\n",
       "         [0, 6, 9, 9, 3]],\n",
       "\n",
       "        [[2, 3, 2, 4, 0],\n",
       "         [6, 0, 2, 0, 6],\n",
       "         [9, 5, 4, 1, 7],\n",
       "         [5, 7, 8, 2, 7]]]])"
      ]
     },
     "execution_count": 157,
     "metadata": {},
     "output_type": "execute_result"
    }
   ],
   "source": [
    "a4 = np.random.randint(10, size = (2,3,4,5))\n",
    "a4"
   ]
  },
  {
   "cell_type": "code",
   "execution_count": 158,
   "id": "2d04bce8-f8f7-48b7-8164-eddeb5c2589b",
   "metadata": {},
   "outputs": [
    {
     "data": {
      "text/plain": [
       "array([[[[2],\n",
       "         [0],\n",
       "         [7],\n",
       "         [8]],\n",
       "\n",
       "        [[5],\n",
       "         [6],\n",
       "         [6],\n",
       "         [7]],\n",
       "\n",
       "        [[0],\n",
       "         [2],\n",
       "         [3],\n",
       "         [1]]],\n",
       "\n",
       "\n",
       "       [[[7],\n",
       "         [8],\n",
       "         [4],\n",
       "         [7]],\n",
       "\n",
       "        [[1],\n",
       "         [9],\n",
       "         [2],\n",
       "         [0]],\n",
       "\n",
       "        [[2],\n",
       "         [6],\n",
       "         [9],\n",
       "         [5]]]])"
      ]
     },
     "execution_count": 158,
     "metadata": {},
     "output_type": "execute_result"
    }
   ],
   "source": [
    "a4[:,:,:,:1]#Nesse caso como o nosso array ele é gerado aleatormianete, nos colocamso com base na dimensao de cada array"
   ]
  },
  {
   "cell_type": "markdown",
   "id": "8011a070-7acf-465f-866e-60b9c7489cbb",
   "metadata": {},
   "source": [
    "## 4.manipulating and comparing arrays"
   ]
  },
  {
   "cell_type": "markdown",
   "id": "eaeba8a4-8345-4a84-a734-61edd03ad553",
   "metadata": {},
   "source": [
    "### Arithmetic"
   ]
  },
  {
   "cell_type": "code",
   "execution_count": 159,
   "id": "7b8c222c-a766-4f20-81a3-0e26a02c997e",
   "metadata": {},
   "outputs": [
    {
     "data": {
      "text/plain": [
       "array([1, 2, 3])"
      ]
     },
     "execution_count": 159,
     "metadata": {},
     "output_type": "execute_result"
    }
   ],
   "source": [
    "a1"
   ]
  },
  {
   "cell_type": "code",
   "execution_count": 160,
   "id": "7b4fcdfc-9cd3-40cb-b0af-271bf0ebf90a",
   "metadata": {},
   "outputs": [
    {
     "data": {
      "text/plain": [
       "array([1., 1., 1.])"
      ]
     },
     "execution_count": 160,
     "metadata": {},
     "output_type": "execute_result"
    }
   ],
   "source": [
    "ones = np.ones(3)\n",
    "ones"
   ]
  },
  {
   "cell_type": "code",
   "execution_count": 161,
   "id": "f5b7e522-0546-4217-9154-935cf1856f1b",
   "metadata": {},
   "outputs": [
    {
     "data": {
      "text/plain": [
       "array([1., 2., 3.])"
      ]
     },
     "execution_count": 161,
     "metadata": {},
     "output_type": "execute_result"
    }
   ],
   "source": [
    "# soma\n",
    "a1 + ones\n",
    "#diferença\n",
    "a1 - ones\n",
    "#multiplicação \n",
    "a1 * ones"
   ]
  },
  {
   "cell_type": "code",
   "execution_count": 162,
   "id": "c29e179c-d35e-4f67-ad42-92a9593a2473",
   "metadata": {},
   "outputs": [
    {
     "data": {
      "text/plain": [
       "(array([[1. , 2. , 3.3],\n",
       "        [4. , 5. , 6. ]]),\n",
       " array([1, 2, 3]))"
      ]
     },
     "execution_count": 162,
     "metadata": {},
     "output_type": "execute_result"
    }
   ],
   "source": [
    "a2, a1"
   ]
  },
  {
   "cell_type": "code",
   "execution_count": 163,
   "id": "a5582ab4-9bda-4ba1-a176-63f6ad1cbcf1",
   "metadata": {},
   "outputs": [
    {
     "data": {
      "text/plain": [
       "array([[ 1. ,  4. ,  9.9],\n",
       "       [ 4. , 10. , 18. ]])"
      ]
     },
     "execution_count": 163,
     "metadata": {},
     "output_type": "execute_result"
    }
   ],
   "source": [
    "a1 * a2 #muiltiplica linha de a1 por linha de a2"
   ]
  },
  {
   "cell_type": "code",
   "execution_count": 164,
   "id": "3d6c6636-01ff-43e6-bafc-7bd11a7356e6",
   "metadata": {},
   "outputs": [
    {
     "ename": "ValueError",
     "evalue": "operands could not be broadcast together with shapes (1,2,3) (1,3,3) ",
     "output_type": "error",
     "traceback": [
      "\u001b[1;31m---------------------------------------------------------------------------\u001b[0m",
      "\u001b[1;31mValueError\u001b[0m                                Traceback (most recent call last)",
      "Cell \u001b[1;32mIn[164], line 4\u001b[0m\n\u001b[0;32m      1\u001b[0m \u001b[38;5;66;03m#a3*a2 Vai dar  erro pois sao matrizes de dimensoes diferentes, logo devemos aplicar reshape nela\u001b[39;00m\n\u001b[0;32m      2\u001b[0m \u001b[38;5;66;03m#logo temos que fazer o reshape da matriz\u001b[39;00m\n\u001b[0;32m      3\u001b[0m a2 \u001b[38;5;241m=\u001b[39m a2\u001b[38;5;241m.\u001b[39mreshape(\u001b[38;5;241m1\u001b[39m,\u001b[38;5;241m2\u001b[39m,\u001b[38;5;241m3\u001b[39m)\n\u001b[1;32m----> 4\u001b[0m a2 \u001b[38;5;241m*\u001b[39m a3\n",
      "\u001b[1;31mValueError\u001b[0m: operands could not be broadcast together with shapes (1,2,3) (1,3,3) "
     ]
    }
   ],
   "source": [
    "#a3*a2 Vai dar  erro pois sao matrizes de dimensoes diferentes, logo devemos aplicar reshape nela\n",
    "#logo temos que fazer o reshape da matriz\n",
    "a2 = a2.reshape(1,2,3)\n",
    "a2 * a3"
   ]
  },
  {
   "cell_type": "code",
   "execution_count": null,
   "id": "69e36b15-5423-4269-ad88-f45f15411be6",
   "metadata": {},
   "outputs": [],
   "source": [
    "np.exp(a1)"
   ]
  },
  {
   "cell_type": "code",
   "execution_count": null,
   "id": "34cb4db3-a889-4bc5-a040-f3e3f508cf8c",
   "metadata": {},
   "outputs": [],
   "source": [
    "np.log(a1)"
   ]
  },
  {
   "cell_type": "markdown",
   "id": "97647179-8e97-4d12-81f0-c1b949306d55",
   "metadata": {},
   "source": [
    "### Agregação\n",
    "Agregation = performing the same operation on a number of things"
   ]
  },
  {
   "cell_type": "code",
   "execution_count": null,
   "id": "7d1a7da9-7020-40a3-8577-4ccf2b1c49c7",
   "metadata": {},
   "outputs": [],
   "source": [
    "listy_list = [1,2,3]\n",
    "type(listy_list)"
   ]
  },
  {
   "cell_type": "code",
   "execution_count": null,
   "id": "2cf0691d-4aec-4669-80e3-de8619891aa7",
   "metadata": {},
   "outputs": [],
   "source": [
    "sum(listy_list)"
   ]
  },
  {
   "cell_type": "code",
   "execution_count": null,
   "id": "9fa2a649-73fe-4d44-b78d-d619dd855f54",
   "metadata": {},
   "outputs": [],
   "source": [
    "type(a1)"
   ]
  },
  {
   "cell_type": "code",
   "execution_count": null,
   "id": "707a6cdc-391f-4f3a-81bd-14f2fb2f19cc",
   "metadata": {},
   "outputs": [],
   "source": [
    "# Use python methods (sum()) on pyhton datatypes and use numpy's methods on numpy arrays(np.sum())"
   ]
  },
  {
   "cell_type": "code",
   "execution_count": null,
   "id": "cdcae223-e32b-4a5e-ada1-444470fab029",
   "metadata": {},
   "outputs": [],
   "source": [
    "#Creative a massive NumPy array\n",
    "massive_array = np.random.random(100000)\n",
    "massive_array[:10], massive_array.size"
   ]
  },
  {
   "cell_type": "code",
   "execution_count": null,
   "id": "4967009a-37dc-4727-84e6-ea6273ec2b56",
   "metadata": {},
   "outputs": [],
   "source": [
    "##%timeit serve para quando quisermos calcular o tempo de execução de um programa\n",
    "%timeit sum(massive_array)\n",
    "%timeit np.sum(massive_array)\n",
    "#no caso, é muito mais rapido para a maquina rodar com o numpy"
   ]
  },
  {
   "cell_type": "code",
   "execution_count": null,
   "id": "ae55c19e-c660-4bc8-a140-5b52342e47e6",
   "metadata": {},
   "outputs": [],
   "source": [
    "a2"
   ]
  },
  {
   "cell_type": "code",
   "execution_count": null,
   "id": "7a8ff699-e360-4551-81bf-8728b6c14f9c",
   "metadata": {},
   "outputs": [],
   "source": [
    "np.mean(a2)"
   ]
  },
  {
   "cell_type": "code",
   "execution_count": null,
   "id": "aec24ff9-b419-44ab-afe8-5f5759c642ce",
   "metadata": {},
   "outputs": [],
   "source": [
    "np.max(a2)"
   ]
  },
  {
   "cell_type": "code",
   "execution_count": null,
   "id": "7c7476d2-f025-4511-ace2-cbfbe6ee21a3",
   "metadata": {},
   "outputs": [],
   "source": [
    "np.min(a2)"
   ]
  },
  {
   "cell_type": "code",
   "execution_count": null,
   "id": "23b817c8-5e83-4e58-a8a2-fc0e11211dad",
   "metadata": {},
   "outputs": [],
   "source": [
    "np.std(a2)#Calcula o(Standard deviation) desvio padrão de um array numerico\n",
    "#Se o desvio padrão for baixo, isso significa que os valores estão próximos da média; se for alto, significa que os valores estão mais dispersos.\n"
   ]
  },
  {
   "cell_type": "code",
   "execution_count": null,
   "id": "e05062d6-ac39-437e-9f4a-9c8b266aaf32",
   "metadata": {},
   "outputs": [],
   "source": [
    "#calcular a variancia = measuere of the average degree to witch each number is different to the mean\n",
    "#Higher varience = wider range of numbers -> maior significa uma gama mais ampla de números\n",
    "#Lower variance = lower range of number ->enquanto uma variância menor significa uma faixa mais estreita de números\n",
    "np.var(a2)"
   ]
  },
  {
   "cell_type": "code",
   "execution_count": null,
   "id": "b1006db0-2bf6-43da-9a2b-27d3755c82fc",
   "metadata": {},
   "outputs": [],
   "source": [
    "#Standart deviation = squareroot of variance\n",
    "np.sqrt(np.var(a2))"
   ]
  },
  {
   "cell_type": "markdown",
   "id": "fd36f0ba-ad82-47f6-8a89-7dbb359a07c1",
   "metadata": {},
   "source": [
    "## std(standard deviation) and var"
   ]
  },
  {
   "cell_type": "code",
   "execution_count": null,
   "id": "1c9bfcde-1cf6-4000-9c8e-817a689fd457",
   "metadata": {},
   "outputs": [],
   "source": [
    "high_var_array = np.array([1,100,200,300,4000,5000])\n",
    "low_var_array = np.array([2,4,6,8,10])"
   ]
  },
  {
   "cell_type": "code",
   "execution_count": null,
   "id": "870907fb-65ac-437a-a653-a1cd0e505ae1",
   "metadata": {},
   "outputs": [],
   "source": [
    "np.var(high_var_array), np.var(low_var_array)"
   ]
  },
  {
   "cell_type": "code",
   "execution_count": null,
   "id": "858df2a5-5d3c-49f5-912b-dbcaf621d9ea",
   "metadata": {},
   "outputs": [],
   "source": [
    "np.mean(high_var_array), np.mean(low_var_array)"
   ]
  },
  {
   "cell_type": "code",
   "execution_count": null,
   "id": "4498e1c8-c4ad-4495-9605-afaa9704f223",
   "metadata": {},
   "outputs": [],
   "source": [
    "np.std(high_var_array), np.std(low_var_array)"
   ]
  },
  {
   "cell_type": "code",
   "execution_count": null,
   "id": "72ff036a-0ad6-4bde-860f-b80eb1e3cd13",
   "metadata": {},
   "outputs": [],
   "source": [
    "%matplotlib inline\n",
    "import matplotlib.pyplot as plt\n",
    "plt.hist(high_var_array)\n",
    "plt.show()"
   ]
  },
  {
   "cell_type": "code",
   "execution_count": null,
   "id": "6f80839f-097a-4c7b-ab0c-8ab166ada280",
   "metadata": {},
   "outputs": [],
   "source": [
    "plt.hist(low_var_array)\n",
    "plt.show()"
   ]
  },
  {
   "cell_type": "markdown",
   "id": "5a280ad4-f2cf-4f4d-a70a-13ebc547e022",
   "metadata": {},
   "source": [
    "## Reshape and transpost"
   ]
  },
  {
   "cell_type": "markdown",
   "id": "db9e096d-c12b-425e-864d-97d419a9bbe3",
   "metadata": {},
   "source": [
    "### Remodelar e transpor"
   ]
  },
  {
   "cell_type": "code",
   "execution_count": null,
   "id": "8cc71357-2349-443b-9da6-f97be3bcd1d9",
   "metadata": {},
   "outputs": [],
   "source": [
    "a2"
   ]
  },
  {
   "cell_type": "code",
   "execution_count": null,
   "id": "3d2b6eca-79f8-4959-be9b-84c6c317f603",
   "metadata": {},
   "outputs": [],
   "source": [
    "a2 = a2.reshape(2,3)"
   ]
  },
  {
   "cell_type": "code",
   "execution_count": null,
   "id": "8681d8c6-6a15-463e-ad34-b22944c97fa2",
   "metadata": {},
   "outputs": [],
   "source": [
    "a2.shape"
   ]
  },
  {
   "cell_type": "code",
   "execution_count": null,
   "id": "fdfc1aec-b3a5-45fa-af3b-5e6b54e93e25",
   "metadata": {},
   "outputs": [],
   "source": [
    "a3. shape"
   ]
  },
  {
   "cell_type": "code",
   "execution_count": null,
   "id": "4b072565-c3a6-41db-8b3a-568d2f9b1712",
   "metadata": {},
   "outputs": [],
   "source": [
    "a2 * a3"
   ]
  },
  {
   "cell_type": "code",
   "execution_count": null,
   "id": "6448f86f-495b-43f3-a30f-8e368f697c12",
   "metadata": {},
   "outputs": [],
   "source": [
    "#Vamos fazer o sehpae de a2\n",
    "a2 = a2.reshape(2,3,1) # a sima de cada dimensao deve ser igual oo size do vetor, caso nao seja, ira dar erro\n",
    "a2"
   ]
  },
  {
   "cell_type": "code",
   "execution_count": null,
   "id": "5f8793cd-7704-4811-9f29-8dad0ff9cc5c",
   "metadata": {},
   "outputs": [],
   "source": [
    "a2 * a3"
   ]
  },
  {
   "cell_type": "code",
   "execution_count": null,
   "id": "ce0b7165-abe5-4148-87ba-25053320feca",
   "metadata": {},
   "outputs": [],
   "source": [
    "#Transpose\n",
    "a2"
   ]
  },
  {
   "cell_type": "code",
   "execution_count": null,
   "id": "b2ed2bf4-fbee-4fcd-9277-ab7978716133",
   "metadata": {},
   "outputs": [],
   "source": [
    "a2.T # inverte/troca as dimensoes"
   ]
  },
  {
   "cell_type": "code",
   "execution_count": null,
   "id": "c437fabf-91cc-47ae-99e2-5813fe29b89a",
   "metadata": {},
   "outputs": [],
   "source": [
    "a2.T.shape"
   ]
  },
  {
   "cell_type": "code",
   "execution_count": null,
   "id": "bb844d2f-abc2-4b6a-bd23-67420e56b78b",
   "metadata": {},
   "outputs": [],
   "source": [
    "a2.shape"
   ]
  },
  {
   "cell_type": "markdown",
   "id": "14f8203d-2f7b-4328-ab29-305d7a530ab9",
   "metadata": {},
   "source": [
    "## DOT PRODUCT X ELEMENT WISE"
   ]
  },
  {
   "cell_type": "markdown",
   "id": "ffdd4cb3-02f3-4e51-a8e5-5c3d920a81ee",
   "metadata": {},
   "source": [
    "### DOT PRODUCT -> PRODUTO ESCALAR\n",
    "é calculado atraves de uma soma començando em i, sua operação é ai*bi"
   ]
  },
  {
   "cell_type": "code",
   "execution_count": null,
   "id": "162f0322-ca07-487d-9267-24c4163a1351",
   "metadata": {},
   "outputs": [],
   "source": [
    "np.random.seed(0)\n",
    "mat1 = np.random.randint(10, size = (5,3))\n",
    "mat2 = np.random.randint(10, size = (5,3))\n",
    "mat1"
   ]
  },
  {
   "cell_type": "code",
   "execution_count": null,
   "id": "5cd9e64e-0b49-4a67-830b-1d766a1ca82e",
   "metadata": {},
   "outputs": [],
   "source": [
    "mat2"
   ]
  },
  {
   "cell_type": "code",
   "execution_count": null,
   "id": "5e60bf52-a2c3-42d0-9492-5ff2393f4a14",
   "metadata": {},
   "outputs": [],
   "source": [
    "mat1.shape, mat2.shape"
   ]
  },
  {
   "cell_type": "code",
   "execution_count": null,
   "id": "60c4bb69-06ad-4ca8-8498-b794c381a0ff",
   "metadata": {},
   "outputs": [],
   "source": [
    "mat1 * mat2"
   ]
  },
  {
   "cell_type": "code",
   "execution_count": null,
   "id": "69aed40d-3d90-414e-b725-26ea8d1ae0bb",
   "metadata": {},
   "outputs": [],
   "source": [
    "#Element- wise multiplication (Hadamard product)\n",
    "\n",
    "A operação \"element-wise\" (por elemento) é uma operação que é aplicada a cada elemento\n",
    "correspondente de dois ou mais arrays, resultando em um novo array com o mesmo tamanho\n",
    "e forma, onde cada elemento é o resultado da operação aplicada aos elementos \n",
    "correspondentes dos arrays de entrada.\n",
    "\n",
    "\"Diferença entre dot product x element wise\"\n",
    "\n",
    "Element wise: nos temos dois vetores de mesma dimensão. onde o resultado será o\n",
    "a posicão da matriz 1 * posicao matriz 2. Ex 11(mat1) * 11(mat2). O resultado sera uma \n",
    "matriz de mesma dimensão das duas .\n",
    "\n",
    "Dot product = Temos duas matrizes de dimensoes diferentes, no caso suponhamos que\n",
    "temos uma matriz 3x3 e 3x2. Vamos ter uma matriz de tamanho 3x2, Onde os resultados\n",
    "serão a primeiro elemento * toda a coluna da 2ºmatriz. \n",
    "\"https://i.imgur.com/Knd6fXg.png\""
   ]
  },
  {
   "cell_type": "code",
   "execution_count": null,
   "id": "68a8d63b-88b5-4434-8f3e-eb06ba13ea35",
   "metadata": {},
   "outputs": [],
   "source": [
    "mat1 * mat2"
   ]
  },
  {
   "cell_type": "code",
   "execution_count": null,
   "id": "27bd1a38-e9b7-4fe5-b167-6c676bb400bd",
   "metadata": {},
   "outputs": [],
   "source": [
    "#Dot product\n",
    "mat1.shape, mat2.shape"
   ]
  },
  {
   "cell_type": "code",
   "execution_count": null,
   "id": "357b3a89-4a21-4a6b-84d0-828f2d21a249",
   "metadata": {},
   "outputs": [],
   "source": [
    "np.dot(mat1,mat2)"
   ]
  },
  {
   "cell_type": "code",
   "execution_count": null,
   "id": "95aec793-b091-4104-8bfb-167cd75186fb",
   "metadata": {},
   "outputs": [],
   "source": [
    "#Transpose mat1\n",
    "mat1.T, mat1"
   ]
  },
  {
   "cell_type": "code",
   "execution_count": null,
   "id": "3effaa8a-c4bb-4c43-af6f-6953552bcd97",
   "metadata": {},
   "outputs": [],
   "source": [
    "mat1.shape, mat2.T.shape"
   ]
  },
  {
   "cell_type": "code",
   "execution_count": null,
   "id": "b89960c5-69a3-4890-8e1c-eb10f396dd31",
   "metadata": {},
   "outputs": [],
   "source": [
    "mat3 = np.dot(mat1,mat2.T)\n",
    "mat3"
   ]
  },
  {
   "cell_type": "code",
   "execution_count": null,
   "id": "ca3c90cf-e46f-400b-aaf7-761eac2bb51e",
   "metadata": {},
   "outputs": [],
   "source": [
    "mat3.shape"
   ]
  },
  {
   "cell_type": "markdown",
   "id": "a5353d51-f066-47bc-b446-7f57d03006bd",
   "metadata": {},
   "source": [
    "### Dot product example(nut butter sales)"
   ]
  },
  {
   "cell_type": "code",
   "execution_count": null,
   "id": "21e4947e-109b-4106-813d-93651ac10035",
   "metadata": {},
   "outputs": [],
   "source": [
    "np.random.seed(0)\n",
    "#number of jars sold -> numero de potes vendidos\n",
    "sales_amount = np.random.randint(20,size = (5,3))#numero max dos rand, tamanho do array\n",
    "sales_amount"
   ]
  },
  {
   "cell_type": "code",
   "execution_count": null,
   "id": "855990b2-5c62-4a7f-8785-fed8fb33eebc",
   "metadata": {},
   "outputs": [],
   "source": [
    "#Create weakly_sales DataFrame\n",
    "weekly_sales = pd.DataFrame(sales_amount, index = [\"Mon\",\"Tues\",\"Wed\", \"Thurs\",\"Fri\"],\n",
    "                                            columns=[\"Almond Butter\",\"Peanut Butter\", \"Cashew Butter\"])\n",
    "weekly_sales"
   ]
  },
  {
   "cell_type": "code",
   "execution_count": null,
   "id": "e8bbe9c5-14ef-4569-b300-60ddfcf02d3d",
   "metadata": {},
   "outputs": [],
   "source": [
    "#Create prices array\n",
    "prices = np.array([10,8,12])\n",
    "prices"
   ]
  },
  {
   "cell_type": "code",
   "execution_count": null,
   "id": "7d5abf00-d4ee-4a83-b935-c77581dfd475",
   "metadata": {},
   "outputs": [],
   "source": [
    "#Create butterprices Data\n",
    "butter_prices = pd.DataFrame(prices.reshape(1,3), index = [\"Price\"], columns = [\"Almond Butter\",\"Peanut Butter\", \"Cashew Butter\"])\n",
    "butter_prices"
   ]
  },
  {
   "cell_type": "code",
   "execution_count": null,
   "id": "c7aeefb3-6eac-4f56-bd16-975105d88f43",
   "metadata": {},
   "outputs": [],
   "source": [
    "total_sales = prices.dot(sales_amount)"
   ]
  },
  {
   "cell_type": "code",
   "execution_count": null,
   "id": "d2162553-c10b-4e0f-aa69-3866c7ffed58",
   "metadata": {},
   "outputs": [],
   "source": [
    "total_sales = prices.dot(sales_amount.T)\n",
    "total_sales\n",
    "\n"
   ]
  },
  {
   "cell_type": "code",
   "execution_count": null,
   "id": "76cb83da-eb0f-4ce0-b501-fe5845760c93",
   "metadata": {},
   "outputs": [],
   "source": [
    "#Create daily_sales\n",
    "butter_prices.shape , weekly_sales.shape"
   ]
  },
  {
   "cell_type": "code",
   "execution_count": null,
   "id": "96e3c062-e1a0-4382-929d-61b9b345a3f8",
   "metadata": {},
   "outputs": [],
   "source": [
    "daily_sales = butter_prices.dot(weekly_sales.T)\n",
    "daily_sales"
   ]
  },
  {
   "cell_type": "code",
   "execution_count": null,
   "id": "61abe67e-26ba-43a9-abb5-f5b86700fc20",
   "metadata": {},
   "outputs": [],
   "source": [
    "weekly_sales[\"Total ($)\"] = daily_sales.T\n",
    "weekly_sales"
   ]
  },
  {
   "cell_type": "markdown",
   "id": "beb8f028-4ed6-4d90-961a-31ec1a44d802",
   "metadata": {},
   "source": [
    "### Comparision arrays"
   ]
  },
  {
   "cell_type": "code",
   "execution_count": null,
   "id": "01b6387a-a65c-4826-a691-bf0ded512541",
   "metadata": {},
   "outputs": [],
   "source": [
    "a1"
   ]
  },
  {
   "cell_type": "code",
   "execution_count": null,
   "id": "8561a4e8-a3d8-4c05-a03e-24fa5ef458c1",
   "metadata": {},
   "outputs": [],
   "source": [
    "a2"
   ]
  },
  {
   "cell_type": "code",
   "execution_count": null,
   "id": "6095b3bd-d71c-40d4-bfeb-f4336ce8f7ff",
   "metadata": {},
   "outputs": [],
   "source": [
    "bool_array = a1 >= a2\n",
    "bool_array"
   ]
  },
  {
   "cell_type": "code",
   "execution_count": null,
   "id": "98882e33-f857-44d8-b49f-5f8b797b0a7a",
   "metadata": {},
   "outputs": [],
   "source": [
    "type(bool_array), bool_array.dtype"
   ]
  },
  {
   "cell_type": "code",
   "execution_count": null,
   "id": "110a5606-7626-437b-978f-2560b8e8e835",
   "metadata": {},
   "outputs": [],
   "source": [
    "a1 > 5"
   ]
  },
  {
   "cell_type": "code",
   "execution_count": null,
   "id": "d425a13d-d4fe-4495-81da-0322fa825286",
   "metadata": {},
   "outputs": [],
   "source": [
    "a1 < 3"
   ]
  },
  {
   "cell_type": "code",
   "execution_count": null,
   "id": "ee59fee4-4ae9-4ec1-8a96-3deb8916a7fd",
   "metadata": {},
   "outputs": [],
   "source": [
    "a1 == a2"
   ]
  },
  {
   "cell_type": "markdown",
   "id": "0272eb25-2ab0-43d0-9c72-cabcfeff84a7",
   "metadata": {},
   "source": [
    "### Sorting arrays"
   ]
  },
  {
   "cell_type": "code",
   "execution_count": null,
   "id": "039b14db-5de2-41d7-b007-cecf259be738",
   "metadata": {},
   "outputs": [],
   "source": [
    "random_array= np.random.randint(10, size = (3,5))\n",
    "random_array"
   ]
  },
  {
   "cell_type": "code",
   "execution_count": null,
   "id": "731808d5-f724-4610-931c-b5f116119fec",
   "metadata": {},
   "outputs": [],
   "source": [
    "random_array.shape"
   ]
  },
  {
   "cell_type": "code",
   "execution_count": null,
   "id": "b6f9dd09-f234-4428-8e8a-6200d9dbb27e",
   "metadata": {},
   "outputs": [],
   "source": [
    "np.sort(random_array) # Ordena as linhas do vetor"
   ]
  },
  {
   "cell_type": "code",
   "execution_count": 165,
   "id": "2c89949f-5569-4ccd-adda-2a6d03745a09",
   "metadata": {},
   "outputs": [
    {
     "data": {
      "text/plain": [
       "array([[4, 1, 0, 3, 2],\n",
       "       [3, 4, 0, 1, 2],\n",
       "       [2, 3, 0, 1, 4]], dtype=int64)"
      ]
     },
     "execution_count": 165,
     "metadata": {},
     "output_type": "execute_result"
    }
   ],
   "source": [
    "np.argsort(random_array) #Ordena de acordo com os indices"
   ]
  },
  {
   "cell_type": "code",
   "execution_count": 166,
   "id": "3cc3cc72-130e-4d12-be8e-0af098b1404b",
   "metadata": {},
   "outputs": [
    {
     "data": {
      "text/plain": [
       "array([1, 2, 3])"
      ]
     },
     "execution_count": 166,
     "metadata": {},
     "output_type": "execute_result"
    }
   ],
   "source": [
    "a1"
   ]
  },
  {
   "cell_type": "code",
   "execution_count": 167,
   "id": "8c71eebd-ea47-43cb-9bf4-bfdbff3e5e6a",
   "metadata": {},
   "outputs": [
    {
     "data": {
      "text/plain": [
       "(2, 0)"
      ]
     },
     "execution_count": 167,
     "metadata": {},
     "output_type": "execute_result"
    }
   ],
   "source": [
    "np.argmax(a1),np.argmin(a1)"
   ]
  },
  {
   "cell_type": "code",
   "execution_count": 169,
   "id": "00c86949-e2c0-4be8-9ac8-607a9eb0ee77",
   "metadata": {},
   "outputs": [
    {
     "data": {
      "text/plain": [
       "array([2, 1, 0, 0, 2], dtype=int64)"
      ]
     },
     "execution_count": 169,
     "metadata": {},
     "output_type": "execute_result"
    }
   ],
   "source": [
    "np.argmax(random_array, axis = 0)\n",
    "#stá solicitando ao NumPy que encontre os índices dos valores máximos ao longo do eixo 0 (ou seja, ao longo das linhas) do array"
   ]
  },
  {
   "cell_type": "code",
   "execution_count": 170,
   "id": "3b8a2afc-317d-4c55-b66c-4af5e4c4a507",
   "metadata": {},
   "outputs": [
    {
     "data": {
      "text/plain": [
       "array([2, 1, 4], dtype=int64)"
      ]
     },
     "execution_count": 170,
     "metadata": {},
     "output_type": "execute_result"
    }
   ],
   "source": [
    "np.argmax(random_array, axis = 1)\n",
    "#encontre os índices dos valores máximos ao longo do eixo 1"
   ]
  },
  {
   "cell_type": "code",
   "execution_count": null,
   "id": "46f06b9c-39bf-4686-a80a-45c022b13950",
   "metadata": {},
   "outputs": [],
   "source": []
  }
 ],
 "metadata": {
  "kernelspec": {
   "display_name": "Python 3 (ipykernel)",
   "language": "python",
   "name": "python3"
  },
  "language_info": {
   "codemirror_mode": {
    "name": "ipython",
    "version": 3
   },
   "file_extension": ".py",
   "mimetype": "text/x-python",
   "name": "python",
   "nbconvert_exporter": "python",
   "pygments_lexer": "ipython3",
   "version": "3.11.7"
  }
 },
 "nbformat": 4,
 "nbformat_minor": 5
}
