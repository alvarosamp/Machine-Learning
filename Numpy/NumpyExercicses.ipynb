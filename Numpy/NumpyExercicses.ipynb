{
 "cells": [
  {
   "cell_type": "code",
   "execution_count": 46,
   "id": "817f1200-9e07-48d4-b388-0c56865f1c47",
   "metadata": {},
   "outputs": [],
   "source": [
    "import numpy as np"
   ]
  },
  {
   "cell_type": "code",
   "execution_count": 47,
   "id": "186341ec-8836-473b-9616-cc7efbef7829",
   "metadata": {},
   "outputs": [
    {
     "data": {
      "text/plain": [
       "(array([1]), (1,))"
      ]
     },
     "execution_count": 47,
     "metadata": {},
     "output_type": "execute_result"
    }
   ],
   "source": [
    "#create a 1-dimensional array\n",
    "a1 = np.array([1])\n",
    "a1,a1.shape"
   ]
  },
  {
   "cell_type": "code",
   "execution_count": 48,
   "id": "b5495039-88d9-4032-94e6-75f0fc4cf9b8",
   "metadata": {},
   "outputs": [
    {
     "data": {
      "text/plain": [
       "(2, 3)"
      ]
     },
     "execution_count": 48,
     "metadata": {},
     "output_type": "execute_result"
    }
   ],
   "source": [
    "#2 - Create a 2 - dimensional array \n",
    "a2 = np.array([[1, 2, 3],\n",
    "                [4, 5, 6]])\n",
    "a2.shape"
   ]
  },
  {
   "cell_type": "code",
   "execution_count": 49,
   "id": "37002981-4809-41d3-82f9-8e1353da791c",
   "metadata": {},
   "outputs": [
    {
     "data": {
      "text/plain": [
       "(array([[[1, 2, 3],\n",
       "         [4, 5, 6],\n",
       "         [7, 8, 9]]]),\n",
       " (1, 3, 3))"
      ]
     },
     "execution_count": 49,
     "metadata": {},
     "output_type": "execute_result"
    }
   ],
   "source": [
    "# Create a 3 - dimensional array\n",
    "a3 = np.array([[[1,2,3],\n",
    "                [4,5,6],\n",
    "                [7,8,9]]])\n",
    "a3, a3.shape"
   ]
  },
  {
   "cell_type": "code",
   "execution_count": 50,
   "id": "af890dd1-bd33-4146-85c0-26a4c3a760cd",
   "metadata": {},
   "outputs": [
    {
     "data": {
      "text/plain": [
       "(1,)"
      ]
     },
     "execution_count": 50,
     "metadata": {},
     "output_type": "execute_result"
    }
   ],
   "source": [
    "##Atributos da matriz 1 (shape, numero de dimensoes, datatype, size and type)\n",
    "a1.shape#linha 1,coluna0"
   ]
  },
  {
   "cell_type": "code",
   "execution_count": 51,
   "id": "383d37e3-20d8-446e-8fbf-f10e57d1fbcd",
   "metadata": {},
   "outputs": [
    {
     "data": {
      "text/plain": [
       "1"
      ]
     },
     "execution_count": 51,
     "metadata": {},
     "output_type": "execute_result"
    }
   ],
   "source": [
    "a1.size"
   ]
  },
  {
   "cell_type": "code",
   "execution_count": 52,
   "id": "311e4222-c55d-40f5-a4c4-886b71824f04",
   "metadata": {},
   "outputs": [
    {
     "data": {
      "text/plain": [
       "dtype('int32')"
      ]
     },
     "execution_count": 52,
     "metadata": {},
     "output_type": "execute_result"
    }
   ],
   "source": [
    "a2.dtype"
   ]
  },
  {
   "cell_type": "code",
   "execution_count": 58,
   "id": "d1f9ecec-9837-4370-9734-9480c5fee9bf",
   "metadata": {},
   "outputs": [],
   "source": [
    "import pandas as pd\n",
    "#passando os arrays\n",
    "a1 = pd.DataFrame(a1)\n",
    "a2 = pd.DataFrame(a2)\n",
    "#a3 = pd.DataFrame(a3)"
   ]
  },
  {
   "cell_type": "code",
   "execution_count": 54,
   "id": "efefb7d7-f983-4c75-b9ce-35a8b3ac2fbc",
   "metadata": {},
   "outputs": [
    {
     "data": {
      "text/plain": [
       "array([[1., 1.],\n",
       "       [1., 1.],\n",
       "       [1., 1.],\n",
       "       [1., 1.],\n",
       "       [1., 1.],\n",
       "       [1., 1.],\n",
       "       [1., 1.],\n",
       "       [1., 1.],\n",
       "       [1., 1.],\n",
       "       [1., 1.]])"
      ]
     },
     "execution_count": 54,
     "metadata": {},
     "output_type": "execute_result"
    }
   ],
   "source": [
    "a4= np.ones((10,2))\n",
    "a4"
   ]
  },
  {
   "cell_type": "code",
   "execution_count": 55,
   "id": "d164ecf4-f4e8-4ded-927d-60abbe9b0f5d",
   "metadata": {},
   "outputs": [
    {
     "data": {
      "text/plain": [
       "array([[[0., 0., 0.],\n",
       "        [0., 0., 0.]],\n",
       "\n",
       "       [[0., 0., 0.],\n",
       "        [0., 0., 0.]],\n",
       "\n",
       "       [[0., 0., 0.],\n",
       "        [0., 0., 0.]],\n",
       "\n",
       "       [[0., 0., 0.],\n",
       "        [0., 0., 0.]],\n",
       "\n",
       "       [[0., 0., 0.],\n",
       "        [0., 0., 0.]],\n",
       "\n",
       "       [[0., 0., 0.],\n",
       "        [0., 0., 0.]],\n",
       "\n",
       "       [[0., 0., 0.],\n",
       "        [0., 0., 0.]]])"
      ]
     },
     "execution_count": 55,
     "metadata": {},
     "output_type": "execute_result"
    }
   ],
   "source": [
    "a5 = np.zeros(((7,2,3)))\n",
    "a5"
   ]
  },
  {
   "cell_type": "code",
   "execution_count": 56,
   "id": "a03ee3c8-cf14-4313-8811-a246dbe1395a",
   "metadata": {},
   "outputs": [
    {
     "data": {
      "text/plain": [
       "array([ 0,  3,  6,  9, 12, 15, 18, 21, 24, 27, 30, 33, 36, 39, 42, 45, 48,\n",
       "       51, 54, 57, 60, 63, 66, 69, 72, 75, 78, 81, 84, 87, 90, 93, 96, 99])"
      ]
     },
     "execution_count": 56,
     "metadata": {},
     "output_type": "execute_result"
    }
   ],
   "source": [
    "#Create a array within a range of 0 and 100 with step3\n",
    "a5 = np.arange(0,100,3)\n",
    "a5"
   ]
  },
  {
   "cell_type": "code",
   "execution_count": 57,
   "id": "5136346f-89e5-407a-b366-6578a6f887fa",
   "metadata": {},
   "outputs": [
    {
     "data": {
      "text/plain": [
       "array([[9, 4],\n",
       "       [3, 9],\n",
       "       [5, 6],\n",
       "       [1, 9],\n",
       "       [2, 0],\n",
       "       [1, 1],\n",
       "       [7, 0]])"
      ]
     },
     "execution_count": 57,
     "metadata": {},
     "output_type": "execute_result"
    }
   ],
   "source": [
    "# Create a random array with numbers between 0 and 10 of size (7, 2)\n",
    "a5 = np.random.randint(0,10, size = (7,2))\n",
    "a5"
   ]
  },
  {
   "cell_type": "code",
   "execution_count": 60,
   "id": "b09e07bd-43cd-44c7-8090-d2d73b0e5812",
   "metadata": {},
   "outputs": [
    {
     "data": {
      "text/plain": [
       "array([[0.82814124, 0.79836773, 0.28066192, 0.64629991, 0.23088092],\n",
       "       [0.15804891, 0.7556432 , 0.58288644, 0.07269647, 0.17014205],\n",
       "       [0.90425807, 0.63020415, 0.92755284, 0.11015434, 0.32352147]])"
      ]
     },
     "execution_count": 60,
     "metadata": {},
     "output_type": "execute_result"
    }
   ],
   "source": [
    " \n",
    "# Create a random array of floats between 0 & 1 of shape (3, 5)\n",
    "a6 = np.random.random( size = (3,5)) \n",
    "a6"
   ]
  },
  {
   "cell_type": "code",
   "execution_count": 65,
   "id": "e978bb6e-ff6e-406f-be1c-c2d6aeddda7f",
   "metadata": {},
   "outputs": [
    {
     "data": {
      "text/plain": [
       "array([[6, 3, 7, 4, 6, 9],\n",
       "       [2, 6, 7, 4, 3, 7],\n",
       "       [7, 2, 5, 4, 1, 7],\n",
       "       [5, 1, 4, 0, 9, 5]])"
      ]
     },
     "execution_count": 65,
     "metadata": {},
     "output_type": "execute_result"
    }
   ],
   "source": [
    "## Create a random array of numbers between 0 & 10 of size (4, 6)\n",
    "np.random.seed(42)\n",
    "a7 = np.random.randint(10, size = (4,6))\n",
    "a7"
   ]
  },
  {
   "cell_type": "code",
   "execution_count": 66,
   "id": "9d3d886d-003b-4da3-9563-0ead89dc78da",
   "metadata": {},
   "outputs": [
    {
     "data": {
      "text/plain": [
       "array([[8, 0, 9, 2, 6, 3, 8],\n",
       "       [2, 4, 2, 6, 4, 8, 6],\n",
       "       [1, 3, 8, 1, 9, 8, 9]])"
      ]
     },
     "execution_count": 66,
     "metadata": {},
     "output_type": "execute_result"
    }
   ],
   "source": [
    "# Create an array of random numbers between 1 & 10 of size (3, 7)\n",
    "# and save it to a variable\n",
    "a8 = np.random.randint(10, size = (3,7))\n",
    "a8"
   ]
  },
  {
   "cell_type": "code",
   "execution_count": 68,
   "id": "e58f3150-e6d0-4130-b969-8c9fed04fcc6",
   "metadata": {},
   "outputs": [
    {
     "data": {
      "text/plain": [
       "array([0, 1, 2, 3, 4, 6, 8, 9])"
      ]
     },
     "execution_count": 68,
     "metadata": {},
     "output_type": "execute_result"
    }
   ],
   "source": [
    "# Find the unique numbers in the array you just created\n",
    "a8_unique = np.unique(a8)\n",
    "a8_unique"
   ]
  },
  {
   "cell_type": "code",
   "execution_count": 74,
   "id": "7cd150e9-5f4e-4895-b8e7-70b937f6dc97",
   "metadata": {},
   "outputs": [
    {
     "data": {
      "text/plain": [
       "array([8, 0, 9, 2, 6, 3, 8])"
      ]
     },
     "execution_count": 74,
     "metadata": {},
     "output_type": "execute_result"
    }
   ],
   "source": [
    "# Find the 0'th index of the latest array you created\n",
    "a8[0]"
   ]
  },
  {
   "cell_type": "code",
   "execution_count": 76,
   "id": "319e82c8-b20e-4e48-bd7b-981456a86f96",
   "metadata": {},
   "outputs": [
    {
     "data": {
      "text/plain": [
       "array([[8, 0, 9, 2, 6, 3, 8],\n",
       "       [2, 4, 2, 6, 4, 8, 6]])"
      ]
     },
     "execution_count": 76,
     "metadata": {},
     "output_type": "execute_result"
    }
   ],
   "source": [
    "a8[:2]\n"
   ]
  },
  {
   "cell_type": "code",
   "execution_count": 77,
   "id": "d0b9d243-35a7-4e80-aad2-5fb775e7535f",
   "metadata": {},
   "outputs": [
    {
     "data": {
      "text/plain": [
       "array([[8, 0],\n",
       "       [2, 4]])"
      ]
     },
     "execution_count": 77,
     "metadata": {},
     "output_type": "execute_result"
    }
   ],
   "source": [
    "# Get the first 2 values of the first 2 rows of the latest array\n",
    "a8[:2,:2]"
   ]
  },
  {
   "cell_type": "code",
   "execution_count": 78,
   "id": "a7566e5f-273d-4724-b93e-478f2662177c",
   "metadata": {},
   "outputs": [],
   "source": [
    "a9 = np.random.randint(10, size = (3,5))\n",
    "a_ones = np.ones((3,5))"
   ]
  },
  {
   "cell_type": "code",
   "execution_count": 80,
   "id": "8801c0de-678e-4177-be95-85efa8927a15",
   "metadata": {},
   "outputs": [
    {
     "data": {
      "text/plain": [
       "array([[ 5.,  2.,  4.,  7.,  8.],\n",
       "       [ 3.,  1.,  4.,  2.,  8.],\n",
       "       [ 4.,  2.,  6.,  6., 10.]])"
      ]
     },
     "execution_count": 80,
     "metadata": {},
     "output_type": "execute_result"
    }
   ],
   "source": [
    "#Add the two arrays together\n",
    "a9 + a_ones"
   ]
  },
  {
   "cell_type": "code",
   "execution_count": 83,
   "id": "9f990298-0aa7-4e30-9403-c64ada8baa5f",
   "metadata": {},
   "outputs": [
    {
     "data": {
      "text/plain": [
       "array([[ 3.,  0.,  2.,  5.,  6.],\n",
       "       [ 1., -1.,  2.,  0.,  6.],\n",
       "       [ 2.,  0.,  4.,  4.,  8.]])"
      ]
     },
     "execution_count": 83,
     "metadata": {},
     "output_type": "execute_result"
    }
   ],
   "source": [
    "a9 - a_ones"
   ]
  },
  {
   "cell_type": "code",
   "execution_count": null,
   "id": "2deeac63-f72d-415f-970c-9031af3ec388",
   "metadata": {},
   "outputs": [],
   "source": []
  }
 ],
 "metadata": {
  "kernelspec": {
   "display_name": "Python 3 (ipykernel)",
   "language": "python",
   "name": "python3"
  },
  "language_info": {
   "codemirror_mode": {
    "name": "ipython",
    "version": 3
   },
   "file_extension": ".py",
   "mimetype": "text/x-python",
   "name": "python",
   "nbconvert_exporter": "python",
   "pygments_lexer": "ipython3",
   "version": "3.11.7"
  }
 },
 "nbformat": 4,
 "nbformat_minor": 5
}
